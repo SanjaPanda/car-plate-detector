{
  "nbformat": 4,
  "nbformat_minor": 0,
  "metadata": {
    "colab": {
      "name": "Data Wrangling.ipynb",
      "provenance": [],
      "collapsed_sections": [],
      "mount_file_id": "1b51NBUPmU_XbPPU2OU6c1zIEDp_41Xq2",
      "authorship_tag": "ABX9TyNF1q4ZTTzCSbDQZgy5MyGo",
      "include_colab_link": true
    },
    "kernelspec": {
      "display_name": "Python 3",
      "name": "python3"
    }
  },
  "cells": [
    {
      "cell_type": "markdown",
      "metadata": {
        "id": "view-in-github",
        "colab_type": "text"
      },
      "source": [
        "<a href=\"https://colab.research.google.com/github/SanjaPanda/car-plate-detector/blob/main/Data_Wrangling.ipynb\" target=\"_parent\"><img src=\"https://colab.research.google.com/assets/colab-badge.svg\" alt=\"Open In Colab\"/></a>"
      ]
    },
    {
      "cell_type": "code",
      "metadata": {
        "id": "zvLF-Fq9XH20"
      },
      "source": [
        "#importing important libraries\r\n",
        "\r\n",
        "import glob\r\n",
        "import matplotlib.pyplot as plt\r\n",
        "import cv2\r\n",
        "\r\n",
        "import shutil\r\n",
        "import pandas as pd\r\n",
        "import xml.etree.ElementTree as ET"
      ],
      "execution_count": null,
      "outputs": []
    },
    {
      "cell_type": "code",
      "metadata": {
        "colab": {
          "base_uri": "https://localhost:8080/"
        },
        "id": "9haAuabR0adp",
        "outputId": "0a978d4b-24a1-4d8e-c5af-7f965c4fb33c"
      },
      "source": [
        "#Change directory to working directory\r\n",
        "\r\n",
        "%cd '/content/drive/MyDrive/car-plate-detector/workspace/training_demo/'"
      ],
      "execution_count": null,
      "outputs": [
        {
          "output_type": "stream",
          "text": [
            "/content/drive/MyDrive/car-plate-detector/workspace/training_demo\n"
          ],
          "name": "stdout"
        }
      ]
    },
    {
      "cell_type": "markdown",
      "metadata": {
        "id": "dxCCwL3vXRmp"
      },
      "source": [
        "# Data Wrangling\r\n",
        "\r\n",
        "### Step 1: Images are split into 2 folders 'Train' and 'Test'.\r\n",
        "### Step 2: XML to CSV\r\n",
        "\r\n",
        "      Extracting data from XML to CSV. These sheets would be later used to create TFRecords"
      ]
    },
    {
      "cell_type": "code",
      "metadata": {
        "id": "ZlVazx_reHO1"
      },
      "source": [
        "def xml_to_csv(path):\r\n",
        "    xml_list = [] \r\n",
        "    column_name = ['filename', 'width', 'height', 'class', 'xmin', 'ymin', 'xmax', 'ymax']\r\n",
        "\r\n",
        "    for xml_file in glob.glob(path + '/*.xml'):\r\n",
        "        tree = ET.parse(xml_file)\r\n",
        "        root = tree.getroot()\r\n",
        "        filename = root.find('filename').text\r\n",
        "        height = root.find('size').find('height').text\r\n",
        "        width = root.find('size').find('width').text\r\n",
        "        for obj in root.findall('object'):\r\n",
        "            clas = obj.find('name').text\r\n",
        "            xmin = obj.find('bndbox').find('xmin').text\r\n",
        "            xmax = obj.find('bndbox').find('xmax').text\r\n",
        "            ymin = obj.find('bndbox').find('ymin').text\r\n",
        "            ymax = obj.find('bndbox').find('ymax').text\r\n",
        "            xml_list.append([filename,width,height,clas,xmin,ymin,xmax,ymax])\r\n",
        "    xml_df = pd.DataFrame(xml_list, columns=column_name)\r\n",
        "    return xml_df"
      ],
      "execution_count": null,
      "outputs": []
    },
    {
      "cell_type": "code",
      "metadata": {
        "id": "4YJHtVlZef2J",
        "colab": {
          "base_uri": "https://localhost:8080/"
        },
        "outputId": "0c8b07fc-0091-4367-d214-253b977025ff"
      },
      "source": [
        "xml_df_train = xml_to_csv('images/train')\r\n",
        "print(xml_df_train.head())\r\n",
        "\r\n",
        "xml_df_test = xml_to_csv('images/test')\r\n",
        "print(xml_df_test.head())"
      ],
      "execution_count": null,
      "outputs": [
        {
          "output_type": "stream",
          "text": [
            "     filename width height    class xmin ymin xmax ymax\n",
            "0  Cars94.png   400    319  licence  176  210  251  248\n",
            "1  Cars92.png   600    400  licence  281  185  393  271\n",
            "2   Cars6.png   500    375  licence  112  114  373  239\n",
            "3  Cars71.png   400    225  licence  254  144  284  152\n",
            "4  Cars71.png   400    225  licence   86  150  125  161\n",
            "      filename width height    class xmin ymin xmax ymax\n",
            "0  Cars415.png   400    300  licence  133  157  261  192\n",
            "1  Cars383.png   400    267  licence   54  216   88  228\n",
            "2  Cars386.png   600    450  licence   83  307  221  368\n",
            "3  Cars417.png   400    295  licence   90  145  273  196\n",
            "4  Cars403.png   400    320  licence  296  189  332  209\n"
          ],
          "name": "stdout"
        }
      ]
    },
    {
      "cell_type": "code",
      "metadata": {
        "id": "euu5FLDgewFb"
      },
      "source": [
        "xml_df_train.to_csv('annotations/carplate_labels_train.csv', index=None)\r\n",
        "xml_df_test.to_csv('annotations/carplate_labels_test.csv', index=None)"
      ],
      "execution_count": null,
      "outputs": []
    },
    {
      "cell_type": "markdown",
      "metadata": {
        "id": "v1Kz8lwH07U3"
      },
      "source": [
        "### Step 3: Prepare for transfer learning for your model\r\n",
        "  * Objective is to pick attributes from pre-trained model to create model.\r\n",
        "  *  Create a copy of 'pipeline.config' and later update it as per requirements.\r\n"
      ]
    },
    {
      "cell_type": "code",
      "metadata": {
        "id": "PLujz1BH0dYQ",
        "colab": {
          "base_uri": "https://localhost:8080/",
          "height": 35
        },
        "outputId": "56cc4e5b-d78c-455b-f06b-17facfbf0c03"
      },
      "source": [
        "#Unpack model\r\n",
        "shutil.unpack_archive('pre-trained-models/ssd_mobilenet_v2_fpnlite_640x640_coco17_tpu-8.tar.gz', 'pre-trained-models/')\r\n",
        "\r\n",
        "#Create a copy of 'pipeline.config'\r\n",
        "shutil.copy('pre-trained-models/ssd_mobilenet_v2_fpnlite_640x640_coco17_tpu-8/pipeline.config', 'models/my_ssd_mobilenet_v2_fpnlite_640x640/', follow_symlinks = True)"
      ],
      "execution_count": null,
      "outputs": [
        {
          "output_type": "execute_result",
          "data": {
            "application/vnd.google.colaboratory.intrinsic+json": {
              "type": "string"
            },
            "text/plain": [
              "'models/my_ssd_mobilenet_v2_fpnlite_640x640/pipeline.config'"
            ]
          },
          "metadata": {
            "tags": []
          },
          "execution_count": 6
        }
      ]
    },
    {
      "cell_type": "markdown",
      "metadata": {
        "id": "IN1Log6j7Xi6"
      },
      "source": [
        "## Update the pipeline.config file\r\n",
        "\r\n",
        "Other Parametes:\r\n",
        "\r\n",
        "    number of classes: 1\r\n",
        "\r\n",
        "    batch_size: 16\r\n",
        "\r\n",
        "update checkpoint details:\r\n",
        "\r\n",
        "    fine_tune_checkpoint ssd: \"/content/drive/MyDrive/car-plate-detector/workspace/training_demo/pre-trained-models/ssd_mobilenet_v2_fpnlite_640x640_coco17_tpu-8/checkpoint/ckpt-0\"\r\n",
        "\r\n",
        "    type: detection\r\n",
        "\r\n",
        "    no. of steps: 10000\r\n",
        "\r\n",
        "Paths:\r\n",
        "\r\n",
        "    label_map_path: /content/drive/MyDrive/car-plate-detector/workspace/training_demo/annotations/label_map.pbtxt\r\n",
        "\r\n",
        "    train_input_path: /content/drive/MyDrive/car-plate-detector/workspace/training_demo/annotations/train.record\r\n",
        "\r\n",
        "    test_input_path: /content/drive/MyDrive/car-plate-detector/workspace/training_demo/annotations/test.record"
      ]
    }
  ]
}